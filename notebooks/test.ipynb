{
 "cells": [
  {
   "cell_type": "code",
   "execution_count": 9,
   "source": [
    "import os,sys\r\n",
    "sys.path.append(\"..\")\r\n",
    "from importlib import reload"
   ],
   "outputs": [],
   "metadata": {}
  },
  {
   "cell_type": "code",
   "execution_count": 51,
   "source": [
    "from app import GTP3Agent\r\n",
    "reload(GTP3Agent)\r\n",
    "from app.GTP3Agent import GTPAgent\r\n",
    "gtp3 = GTPAgent(engine='davinci')\r\n",
    "gtp3.set_chatter_name(\"Simon\")"
   ],
   "outputs": [],
   "metadata": {}
  },
  {
   "cell_type": "code",
   "execution_count": 52,
   "source": [
    "gtp3.start_conversation()\r\n",
    "gtp3.chat(\"hey\",500)\r\n",
    "print(gtp3.conversation)"
   ],
   "outputs": [
    {
     "output_type": "stream",
     "name": "stdout",
     "text": [
      "The following is a conversation with an AI assistant. The assistant is helpful, creative, clever, and very friendly. The AI is talking with a person named Simon.\n",
      "\n",
      "GTP: Hi. My name is GTP, I'm your AI assistant.\n",
      "Simon: hey\n",
      "GTP: 你好-nǐ hǎo !\n",
      "\n"
     ]
    }
   ],
   "metadata": {}
  },
  {
   "cell_type": "code",
   "execution_count": 35,
   "source": [
    "import re\r\n",
    "\r\n",
    "msg = '''\r\n",
    "can I speak with davinci-codex?\r\n",
    "'''.strip().lower()\r\n",
    "\r\n",
    "params_str = '|'.join(['engine','temperature','top_p','max_tokens','max_length','length','a'])\r\n",
    "regex = f'.*(set|change) (?P<parameter>{params_str}|parameter (\\w+)) (to|as) (?P<value>\\w+).*\\.'\r\n",
    "match = re.match('.*speak with (?P<word_after>[A-Za-z0-9-\\-\\_]+)',msg.lower())\r\n",
    "if match:\r\n",
    "    print(\"Match!\")\r\n",
    "    print(match.group('word_after'))\r\n",
    "else:\r\n",
    "    print(\"No match\")\r\n",
    "    print(regex,msg.lower())"
   ],
   "outputs": [
    {
     "output_type": "stream",
     "name": "stdout",
     "text": [
      "Match!\n",
      "davinci-codex\n"
     ]
    }
   ],
   "metadata": {}
  },
  {
   "cell_type": "code",
   "execution_count": 3,
   "source": [
    "match.group(0)"
   ],
   "outputs": [
    {
     "output_type": "execute_result",
     "data": {
      "text/plain": [
       "'can i speak with davinci-codex?'"
      ]
     },
     "metadata": {},
     "execution_count": 3
    }
   ],
   "metadata": {}
  }
 ],
 "metadata": {
  "interpreter": {
   "hash": "421128c6f27ba1ef57afa2fe66d0aff339dbd9c46720733f6da35de1016f1056"
  },
  "kernelspec": {
   "name": "python3",
   "display_name": "Python 3.7.10 64-bit ('ml-env': conda)"
  },
  "language_info": {
   "codemirror_mode": {
    "name": "ipython",
    "version": 3
   },
   "file_extension": ".py",
   "mimetype": "text/x-python",
   "name": "python",
   "nbconvert_exporter": "python",
   "pygments_lexer": "ipython3",
   "version": "3.7.10"
  },
  "orig_nbformat": 4
 },
 "nbformat": 4,
 "nbformat_minor": 2
}