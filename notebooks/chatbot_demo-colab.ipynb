{
  "cells": [
    {
      "cell_type": "markdown",
      "metadata": {
        "id": "DrCAjAGpksUw"
      },
      "source": [
        "Run the OpenAI agent interactively with this notebook"
      ]
    },
    {
      "cell_type": "code",
      "execution_count": null,
      "metadata": {
        "id": "9QR66p9KgbHQ"
      },
      "outputs": [],
      "source": [
        "# run this only once\n",
        "!git clone https://github.com/simonsanvil/openai-whatsapp-chatbot\n",
        "!pip install -e openai-whatsapp-chatbot/openai-chatbot"
      ]
    },
    {
      "cell_type": "markdown",
      "metadata": {
        "id": "gesRKveVkbzt"
      },
      "source": [
        "**Note:** You must restart the notebook after installing the requirements above for the first time"
      ]
    },
    {
      "cell_type": "code",
      "execution_count": 16,
      "metadata": {
        "id": "9dryt3ZEfVtE"
      },
      "outputs": [],
      "source": [
        "from openai_agent.agent import OpenAIAgent\n",
        "from IPython.display import display, HTML\n",
        "from ipywidgets import widgets\n",
        "from getpass import getpass\n",
        "import re, os"
      ]
    },
    {
      "cell_type": "code",
      "execution_count": null,
      "metadata": {
        "cellView": "form",
        "id": "Nj3PboTYfbu1"
      },
      "outputs": [],
      "source": [
        "#@title Set your OpenAI API key\n",
        "#@markdown Run this cell to get a prompt where you can secretly input your API key\n",
        "\n",
        "openai_api_key = getpass('YOUR OPENAI API KEY:')"
      ]
    },
    {
      "cell_type": "code",
      "execution_count": 62,
      "metadata": {
        "cellView": "form",
        "colab": {
          "base_uri": "https://localhost:8080/",
          "height": 34
        },
        "id": "QBpdQF3ylcB6",
        "outputId": "c285e9f9-b74f-49e0-b8b2-5efd1dc20a01"
      },
      "outputs": [
        {
          "name": "stdout",
          "output_type": "stream",
          "text": [
            "TEXT-DAVINCI-003 agent instanced successfully\n"
          ]
        }
      ],
      "source": [
        "#@title Instancing the agent\n",
        "# instance the agent\n",
        "username = \"simon\" #@param enter your name here\n",
        "gpt_engine = \"text-davinci-003\" #@param \n",
        "\n",
        "os.environ[\"OPENAI_API_KEY\"] = openai_api_key\n",
        "agent = OpenAIAgent(\n",
        "    api_key=openai_api_key,\n",
        "    engine=gpt_engine,\n",
        "    # start_template=open('openai-whatsapp-chatbot/data/start_template.txt','r').read()\n",
        ")\n",
        "agent.start_conversation(username)\n",
        "\n",
        "print(f\"{agent.name} agent instanced successfully\")\n",
        "\n",
        "#@markdown The parameters above are optional. Run this cell to instance the agent and set up the interactive widgets. Go [here](https://platform.openai.com/docs/models/gpt-3) for a list of all available GPT models/engines.\n",
        "\n",
        "# create the output widget so that new messages are always displayed at the top\n",
        "output_widget = widgets.Output()\n",
        "output_widget.layout.height = \"400px\"\n",
        "output_widget.layout.overflow_y = \"scroll\"\n",
        "colors = {agent.name: \"red\", username: \"blue\"}\n",
        "\n",
        "# with output_widget:\n",
        "#     display(HTML(\"<h1>OpenAI Agent Demo</h1>\"))\n",
        "#     display(HTML(\"<p>Enter your message and press enter to send it to the agent\\nSay \\\"bye\\\" to end the conversation.</p>\"))\n",
        "\n",
        "\n",
        "def display_messages():\n",
        "    output_widget.clear_output()\n",
        "    messages = re.findall(rf\"{agent.username}:(.*)\", agent.conversation)\n",
        "    replies = re.findall(rf\"{agent.name}:(.*)\", agent.conversation)\n",
        "    with output_widget:\n",
        "        # display(HTML(\"<h1>OpenAI Agent Demo</h1>\"))\n",
        "        # display(HTML(\"<p>Enter your message and press enter to send it to the agent. Say \\\"bye\\\" to end the conversation.</p>\"))\n",
        "        for msg, reply in list(zip(messages, replies))[::-1]:\n",
        "            display(HTML(f\"\"\"\n",
        "            <p style=\"background-color: {colors[agent.name]}; padding: 10px; border-radius: 10px;\">\n",
        "            {agent.name.upper()}: {reply}\n",
        "            </p>\n",
        "            \"\"\"))\n",
        "            display(HTML(f\"\"\"\n",
        "            <p style=\"background-color: {colors[username]}; padding: 10px; border-radius: 10px;\">\n",
        "            {username.upper()}: {msg}\n",
        "            </p>\n",
        "            \"\"\"))"
      ]
    },
    {
      "cell_type": "code",
      "execution_count": 66,
      "metadata": {
        "cellView": "form",
        "colab": {
          "base_uri": "https://localhost:8080/",
          "height": 502,
          "referenced_widgets": [
            "11cf577b6bfa45d189520720162cc703",
            "33a7bc2dd197475f8ee6b7f5be213cd2"
          ]
        },
        "id": "SrHXl-O8iIPh",
        "outputId": "e4399a6c-70c8-4b49-9d47-87376006b152"
      },
      "outputs": [
        {
          "data": {
            "application/vnd.jupyter.widget-view+json": {
              "model_id": "11cf577b6bfa45d189520720162cc703",
              "version_major": 2,
              "version_minor": 0
            },
            "text/plain": [
              "Output(layout=Layout(height='400px', overflow_y='scroll'))"
            ]
          },
          "metadata": {},
          "output_type": "display_data"
        },
        {
          "name": "stdout",
          "output_type": "stream",
          "text": [
            "Enter your message: hi\n",
            "Enter your message: what can you do?\n",
            "Enter your message: nothing by now\n",
            "Enter your message: Thank you!\n",
            "Enter your message: Bye\n"
          ]
        }
      ],
      "source": [
        "#@markdown # Interactive Demo\n",
        "#@markdown Enter your message and press enter to send it to the agent. Say \"bye\" to end the conversation.\n",
        "agent.start_conversation(username)\n",
        "output_widget.clear_output()\n",
        "display(output_widget)\n",
        "while 1:\n",
        "    msg = input(\"Enter your message: \")\n",
        "    if msg.lower().strip() == \"bye\":\n",
        "      agent.update_conversation(msg, \"Bye!\")\n",
        "      display_messages()\n",
        "      break\n",
        "    response = agent.get_reply(msg)\n",
        "    display_messages()  "
      ]
    }
  ],
  "metadata": {
    "colab": {
      "provenance": []
    },
    "kernelspec": {
      "display_name": "openai-whatsapp",
      "language": "python",
      "name": "python3"
    },
    "language_info": {
      "name": "python",
      "version": "3.8.16"
    },
    "vscode": {
      "interpreter": {
        "hash": "4c3e9ef3c0fafa975eae28a27474bc3a0b8bb796ee93f1b6962c85d448908fb8"
      }
    },
    "widgets": {
      "application/vnd.jupyter.widget-state+json": {
        "11cf577b6bfa45d189520720162cc703": {
          "model_module": "@jupyter-widgets/output",
          "model_module_version": "1.0.0",
          "model_name": "OutputModel",
          "state": {
            "_dom_classes": [],
            "_model_module": "@jupyter-widgets/output",
            "_model_module_version": "1.0.0",
            "_model_name": "OutputModel",
            "_view_count": null,
            "_view_module": "@jupyter-widgets/output",
            "_view_module_version": "1.0.0",
            "_view_name": "OutputView",
            "layout": "IPY_MODEL_33a7bc2dd197475f8ee6b7f5be213cd2",
            "msg_id": "",
            "outputs": [
              {
                "data": {
                  "text/html": "\n            <p style=\"background-color: red; padding: 10px; border-radius: 10px;\">\n            TEXT-DAVINCI-003: Bye!\n            </p>\n            ",
                  "text/plain": "<IPython.core.display.HTML object>"
                },
                "metadata": {},
                "output_type": "display_data"
              },
              {
                "data": {
                  "text/html": "\n            <p style=\"background-color: blue; padding: 10px; border-radius: 10px;\">\n            SIMON: Bye\n            </p>\n            ",
                  "text/plain": "<IPython.core.display.HTML object>"
                },
                "metadata": {},
                "output_type": "display_data"
              },
              {
                "data": {
                  "text/html": "\n            <p style=\"background-color: red; padding: 10px; border-radius: 10px;\">\n            TEXT-DAVINCI-003: You're welcome! Is there anything else I can do for you?\n            </p>\n            ",
                  "text/plain": "<IPython.core.display.HTML object>"
                },
                "metadata": {},
                "output_type": "display_data"
              },
              {
                "data": {
                  "text/html": "\n            <p style=\"background-color: blue; padding: 10px; border-radius: 10px;\">\n            SIMON: Thank you!\n            </p>\n            ",
                  "text/plain": "<IPython.core.display.HTML object>"
                },
                "metadata": {},
                "output_type": "display_data"
              },
              {
                "data": {
                  "text/html": "\n            <p style=\"background-color: red; padding: 10px; border-radius: 10px;\">\n            TEXT-DAVINCI-003: No problem! If you need any help in the future, just let me know.\n            </p>\n            ",
                  "text/plain": "<IPython.core.display.HTML object>"
                },
                "metadata": {},
                "output_type": "display_data"
              },
              {
                "data": {
                  "text/html": "\n            <p style=\"background-color: blue; padding: 10px; border-radius: 10px;\">\n            SIMON: nothing by now\n            </p>\n            ",
                  "text/plain": "<IPython.core.display.HTML object>"
                },
                "metadata": {},
                "output_type": "display_data"
              },
              {
                "data": {
                  "text/html": "\n            <p style=\"background-color: red; padding: 10px; border-radius: 10px;\">\n            TEXT-DAVINCI-003: I can help you with a variety of tasks. I'm able to generate images, provide helpful advice, answer questions, and more. What would you like me to do?\n            </p>\n            ",
                  "text/plain": "<IPython.core.display.HTML object>"
                },
                "metadata": {},
                "output_type": "display_data"
              },
              {
                "data": {
                  "text/html": "\n            <p style=\"background-color: blue; padding: 10px; border-radius: 10px;\">\n            SIMON: what can you do?\n            </p>\n            ",
                  "text/plain": "<IPython.core.display.HTML object>"
                },
                "metadata": {},
                "output_type": "display_data"
              },
              {
                "data": {
                  "text/html": "\n            <p style=\"background-color: red; padding: 10px; border-radius: 10px;\">\n            TEXT-DAVINCI-003: Hi there, Simon! How can I help you?\n            </p>\n            ",
                  "text/plain": "<IPython.core.display.HTML object>"
                },
                "metadata": {},
                "output_type": "display_data"
              },
              {
                "data": {
                  "text/html": "\n            <p style=\"background-color: blue; padding: 10px; border-radius: 10px;\">\n            SIMON: hi\n            </p>\n            ",
                  "text/plain": "<IPython.core.display.HTML object>"
                },
                "metadata": {},
                "output_type": "display_data"
              }
            ]
          }
        },
        "33a7bc2dd197475f8ee6b7f5be213cd2": {
          "model_module": "@jupyter-widgets/base",
          "model_module_version": "1.2.0",
          "model_name": "LayoutModel",
          "state": {
            "_model_module": "@jupyter-widgets/base",
            "_model_module_version": "1.2.0",
            "_model_name": "LayoutModel",
            "_view_count": null,
            "_view_module": "@jupyter-widgets/base",
            "_view_module_version": "1.2.0",
            "_view_name": "LayoutView",
            "align_content": null,
            "align_items": null,
            "align_self": null,
            "border": null,
            "bottom": null,
            "display": null,
            "flex": null,
            "flex_flow": null,
            "grid_area": null,
            "grid_auto_columns": null,
            "grid_auto_flow": null,
            "grid_auto_rows": null,
            "grid_column": null,
            "grid_gap": null,
            "grid_row": null,
            "grid_template_areas": null,
            "grid_template_columns": null,
            "grid_template_rows": null,
            "height": "400px",
            "justify_content": null,
            "justify_items": null,
            "left": null,
            "margin": null,
            "max_height": null,
            "max_width": null,
            "min_height": null,
            "min_width": null,
            "object_fit": null,
            "object_position": null,
            "order": null,
            "overflow": null,
            "overflow_x": null,
            "overflow_y": "scroll",
            "padding": null,
            "right": null,
            "top": null,
            "visibility": null,
            "width": null
          }
        }
      }
    }
  },
  "nbformat": 4,
  "nbformat_minor": 0
}
